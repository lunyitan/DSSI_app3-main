{
  "nbformat": 4,
  "nbformat_minor": 0,
  "metadata": {
    "colab": {
      "name": "Streamlit-colab_app3_v3.ipynb",
      "provenance": [],
      "collapsed_sections": [],
      "mount_file_id": "1JIHmNCxa_cEZLpn6BRrK_ZEZELy045NJ",
      "authorship_tag": "ABX9TyN6snFtXoguJjq5CdMnC1cx",
      "include_colab_link": true
    },
    "kernelspec": {
      "name": "python3",
      "display_name": "Python 3"
    },
    "language_info": {
      "name": "python"
    }
  },
  "cells": [
    {
      "cell_type": "markdown",
      "metadata": {
        "id": "view-in-github",
        "colab_type": "text"
      },
      "source": [
        "<a href=\"https://colab.research.google.com/github/prakashsukhwal/DSSI_app3/blob/main/Streamlit_colab_app3_v3.ipynb\" target=\"_parent\"><img src=\"https://colab.research.google.com/assets/colab-badge.svg\" alt=\"Open In Colab\"/></a>"
      ]
    },
    {
      "cell_type": "code",
      "metadata": {
        "id": "xSrMTtRUNvGu"
      },
      "source": [
        "!pip install streamlit"
      ],
      "execution_count": null,
      "outputs": []
    },
    {
      "cell_type": "code",
      "metadata": {
        "id": "g5A9uDsk-Iem"
      },
      "source": [
        "# from google.colab import drive\n",
        "\n",
        "# drive.mount('/content/gdrive')"
      ],
      "execution_count": null,
      "outputs": []
    },
    {
      "cell_type": "code",
      "metadata": {
        "id": "tk60Kn1ON4FF"
      },
      "source": [
        "# Author: Prakash Sukhwal\n",
        "# version: 2.0\n",
        "# Aug 2021\n",
        "%%writefile app3_v3.py\n",
        "\n",
        "import streamlit as st\n",
        "# other libs\n",
        "import numpy as np\n",
        "import pandas as pd\n",
        "import pickle\n",
        "# import pyautogui # for reset button: pip install pyautogui\n",
        "\n",
        "# load the model.pkl\n",
        "#/content/drive/MyDrive/Solution Implementation Course/model.pkl\n",
        "path = r'/content/model.pkl' # just drag and drop the model file in your google drive\n",
        "with open(path, \"rb\") as f:\n",
        "\tmodel = pickle.load(f)\n",
        "\n",
        "# Streamlit provides a caching mechanism that allows your app to stay performant \n",
        "# even when loading data from the web, manipulating large datasets, \n",
        "# or performing expensive computations. This is done with the @st.cache decorator.\n",
        "@st.cache()\n",
        "\n",
        "def prediction(int_rate, emp_length, annual_inc, delinq_2yrs, fico_range_high,revol_bal, open_acc):\n",
        "\t# Making predictions\n",
        "\tprediction = model.predict([[int_rate, emp_length, annual_inc, delinq_2yrs,fico_range_high,revol_bal, open_acc]])\n",
        "\tif prediction == 0:\n",
        "\t\tpred = 'Rejected'\n",
        "\telse:\n",
        "\t\tpred = 'Approved'\n",
        "\treturn pred\n",
        "\n",
        "\n",
        "# putting the app related codes in main()\n",
        "def main():\n",
        "\t# -- Set page config\n",
        "\tapptitle = 'DSSI'\n",
        "\tst.set_page_config(page_title=apptitle, page_icon='random', \n",
        "\t\tlayout= 'wide', initial_sidebar_state=\"expanded\")\n",
        "\t# random icons in the browser tab\n",
        "\n",
        "\t# give a title to your app\n",
        "\tst.title('Solution Implementation')\n",
        "\t#front end elements of the web page \n",
        "\t# pick colors from: https://www.w3schools.com/tags/ref_colornames.asp\n",
        "\thtml_temp = \"\"\" <div style =\"background-color:AntiqueWhite;padding:15px\"> \n",
        "       <h1 style =\"color:black;text-align:center;\">A loan application assessment app</h1> \n",
        "       </div> <br/>\"\"\"\n",
        "\n",
        "    #display the front end aspect\n",
        "\tst.markdown(html_temp, unsafe_allow_html = True)\n",
        "\t# let us make infrastructure to provide inputs\n",
        "\t# we will add the inputs to side bar\n",
        "\tst.sidebar.info('Provide input using the panel')\n",
        "\tst.info('Click Assess button below')\n",
        "\n",
        "\tint_rate = st.sidebar.slider('int_rate', 5, 25, 10)\n",
        "\tst.write('input int_rate', int_rate)\n",
        "\temp_length = st.sidebar.slider('emp_length', 0, 40, 5)\n",
        "\tst.write('input emp_length', emp_length)\n",
        "\tannual_inc = st.sidebar.slider('annual_inc in 1000s', 40, 100, 60)\n",
        "\tst.write('input annual_inc', annual_inc*1000)\n",
        "\tdelinq_2yrs = st.sidebar.slider('delinq_2yrs', 0, 20, 0)\n",
        "\tst.write('input delinq_2yrs', delinq_2yrs)\n",
        "\tfico_range_high = st.sidebar.slider('fico_range_high', 630, 900, 700)\n",
        "\tst.write('input fico_range_high', fico_range_high)\n",
        "\trevol_bal = st.sidebar.slider('revol_bal', 1, 1000, 2)\n",
        "\tst.write('input revol_bal', revol_bal*1000)\n",
        "\topen_acc = st.sidebar.slider('open_acc', 1, 50, 2)\n",
        "\tst.write('input open_acc', open_acc)\n",
        "\tresult =\"\"\n",
        "\t# assessment button\n",
        "\tif st.button(\"Predict\"):\n",
        "\t\tassessment = prediction(int_rate, emp_length, annual_inc, delinq_2yrs, fico_range_high,revol_bal, open_acc)\n",
        "\t\tst.success('**System assessment says:** {}'.format(assessment))\n",
        "\n",
        "\t# if st.button(\"Reset\"):\n",
        "\t# \tpyautogui.hotkey(\"ctrl\",\"F5\")\n",
        "\n",
        "\t# st.balloons()\n",
        "\tst.success(\"App is working!!\") # other tags include st.error, st.warning, st.help etc.\n",
        "\n",
        "if __name__ == '__main__':\n",
        "\tmain()\n"
      ],
      "execution_count": null,
      "outputs": []
    },
    {
      "cell_type": "code",
      "metadata": {
        "id": "LEkL4tECPtf_"
      },
      "source": [
        "!ls"
      ],
      "execution_count": null,
      "outputs": []
    },
    {
      "cell_type": "code",
      "source": [
        "!pip install pyngrok"
      ],
      "metadata": {
        "id": "QokduG3Ys3zg"
      },
      "execution_count": null,
      "outputs": []
    },
    {
      "cell_type": "markdown",
      "source": [
        "### Note:\n",
        "!ngrok authtoken << enter token from https://dashboard.ngrok.com/get-started/your-authtoken >>"
      ],
      "metadata": {
        "id": "Q8894R0_prWS"
      }
    },
    {
      "cell_type": "code",
      "source": [
        "!ngrok authtoken << enter token>>"
      ],
      "metadata": {
        "id": "eFMWLswPs86G"
      },
      "execution_count": null,
      "outputs": []
    },
    {
      "cell_type": "code",
      "metadata": {
        "id": "aaPZ7hARVefl"
      },
      "source": [
        "!wget https://bin.equinox.io/c/4VmDzA7iaHb/ngrok-stable-linux-amd64.zip"
      ],
      "execution_count": null,
      "outputs": []
    },
    {
      "cell_type": "code",
      "metadata": {
        "id": "sla3v3o1VeVd"
      },
      "source": [
        "!unzip ngrok-stable-linux-amd64.zip"
      ],
      "execution_count": null,
      "outputs": []
    },
    {
      "cell_type": "code",
      "metadata": {
        "id": "KBV-UJfeVvQl"
      },
      "source": [
        "get_ipython().system_raw('./ngrok http 8501 &')"
      ],
      "execution_count": null,
      "outputs": []
    },
    {
      "cell_type": "code",
      "metadata": {
        "id": "4_-rJtpcPtcS"
      },
      "source": [
        "# run the app\n",
        "!streamlit run app3_v3.py &>/dev/null&"
      ],
      "execution_count": null,
      "outputs": []
    },
    {
      "cell_type": "code",
      "metadata": {
        "id": "1audXTOWVvEq"
      },
      "source": [
        "!curl -s http://localhost:4040/api/tunnels | python3 -c \\\n",
        "    'import sys, json; print(\" Access the app at URL: \" +json.load(sys.stdin)[\"tunnels\"][0][\"public_url\"])'"
      ],
      "execution_count": null,
      "outputs": []
    },
    {
      "cell_type": "code",
      "metadata": {
        "id": "fhyZRx9Qvb3q"
      },
      "source": [
        "# what is the process id\n",
        "!pgrep streamlit"
      ],
      "execution_count": null,
      "outputs": []
    },
    {
      "cell_type": "markdown",
      "source": [
        "### Note:\n",
        "ngrok limits your sessions to eight hours on the free version. You can pay to get longer sessions"
      ],
      "metadata": {
        "id": "z3WCtHw4sl0t"
      }
    },
    {
      "cell_type": "code",
      "metadata": {
        "id": "Tsv-e5h-XOQl"
      },
      "source": [
        "!kill 250 # change with current process id"
      ],
      "execution_count": null,
      "outputs": []
    },
    {
      "cell_type": "code",
      "metadata": {
        "id": "Cmxyfvfe2GMa"
      },
      "source": [
        "# ngrok.kill()"
      ],
      "execution_count": null,
      "outputs": []
    }
  ]
}